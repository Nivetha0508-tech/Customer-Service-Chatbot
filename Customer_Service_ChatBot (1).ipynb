{
  "nbformat": 4,
  "nbformat_minor": 0,
  "metadata": {
    "colab": {
      "provenance": []
    },
    "kernelspec": {
      "name": "python3",
      "display_name": "Python 3"
    },
    "language_info": {
      "name": "python"
    }
  },
  "cells": [
    {
      "cell_type": "code",
      "execution_count": null,
      "metadata": {
        "id": "XxVy05vGYOtK"
      },
      "outputs": [],
      "source": [
        "pip install nltk"
      ]
    },
    {
      "cell_type": "code",
      "source": [
        "import nltk\n",
        "import random\n",
        "from nltk.corpus import stopwords\n",
        "from nltk.tokenize import word_tokenize\n",
        "import string"
      ],
      "metadata": {
        "id": "n4ih376Cb5BC"
      },
      "execution_count": null,
      "outputs": []
    },
    {
      "cell_type": "code",
      "source": [
        "nltk.download('punkt')\n",
        "nltk.download('stopwords')"
      ],
      "metadata": {
        "id": "Z2WFrsbzcelT"
      },
      "execution_count": null,
      "outputs": []
    },
    {
      "cell_type": "code",
      "source": [
        "training_data = [(\"hi\", \"greeting\"), (\"hello\", \"greeting\"), (\"good morning\", \"greeting\"),\n",
        "                 (\"bye\", \"goodbye\"), (\"see you\", \"goodbye\"), (\"good night\", \"goodbye\"),\n",
        "                 (\"what are your hours\", \"hours\"), (\"when do you open\", \"hours\"), (\"working hours\", \"hours\"),\n",
        "                 (\"where are you located\", \"location\"), (\"address\", \"location\"), (\"location please\", \"location\"),\n",
        "                 (\"I want to return my product\", \"refund\"), (\"can I return this\", \"refund\"), (\"how do I get a refund\", \"refund\"),\n",
        "                 (\"how do I track my order\", \"order\"), (\"track my order\", \"order\"), (\"where is my package\", \"order\")]"
      ],
      "metadata": {
        "id": "Aqfd823YcwyB"
      },
      "execution_count": null,
      "outputs": []
    },
    {
      "cell_type": "code",
      "source": [
        "stop_words = set(stopwords.words('english'))"
      ],
      "metadata": {
        "id": "zFznIwQCgs65"
      },
      "execution_count": null,
      "outputs": []
    },
    {
      "cell_type": "code",
      "source": [
        "def preprocess(sentence):\n",
        "    words = word_tokenize(sentence.lower())\n",
        "    words = [w for w in words if w not in stop_words and w not in string.punctuation]\n",
        "    return{word: True for word in words}"
      ],
      "metadata": {
        "id": "GDh3FKBFgz0q"
      },
      "execution_count": null,
      "outputs": []
    },
    {
      "cell_type": "code",
      "source": [
        "training_set = [(preprocess(text), label) for (text, label) in training_data]"
      ],
      "metadata": {
        "id": "j9hWU_FojJdj"
      },
      "execution_count": null,
      "outputs": []
    },
    {
      "cell_type": "code",
      "source": [
        "classifier = nltk.NaiveBayesClassifier.train(training_set)"
      ],
      "metadata": {
        "id": "KUzqxmYsjAuD"
      },
      "execution_count": null,
      "outputs": []
    },
    {
      "cell_type": "code",
      "source": [
        "responses = {\"greeting\": \"Hello! How can I assist you today?\",\n",
        "             \"goodbye\": \"Goodbye! Have a wonderful day!\",\n",
        "             \"hours\": \"Our working hours are 9 AM to 6 PM, Monday to Friday.\",\n",
        "             \"location\": \"We are located at Cantonment, Trichy.\",\n",
        "             \"refund\": \"You can return products within 30 days with the original receipt.\",\n",
        "             \"order\": \"You can track your order under the 'My Orders' section of our website.\",\n",
        "             \"unknown\": \"I'm sorry, I didn't understand that. Can you please rephrase?\"}"
      ],
      "metadata": {
        "id": "MpupzDBWj1Cl"
      },
      "execution_count": null,
      "outputs": []
    },
    {
      "cell_type": "code",
      "source": [
        "def chatbot():\n",
        "    print(\"Customer Service Chatbot: Hello! Type 'bye' to exit.\")\n",
        "    while True:\n",
        "        user_input = input(\"You: \")\n",
        "        if user_input.lower() in ['bye', 'exit', 'quit']:\n",
        "          print(\"Customer Service Bot:\", responses[\"goodbye\"])\n",
        "          break\n",
        "\n",
        "        features = preprocess(user_input)\n",
        "        predicted_intent = classifier.classify(features)\n",
        "        response = responses.get(predicted_intent, responses[\"unknown\"])\n",
        "        print(\"Customer Service Bot:\", response)\n",
        "\n",
        "chatbot()"
      ],
      "metadata": {
        "colab": {
          "base_uri": "https://localhost:8080/"
        },
        "id": "KxwnTFGHoBkR",
        "outputId": "b561547a-a91e-4f75-8fa6-94f18593150f"
      },
      "execution_count": null,
      "outputs": [
        {
          "output_type": "stream",
          "name": "stdout",
          "text": [
            "Customer Service Chatbot: Hello! Type 'bye' to exit.\n",
            "You: hi\n",
            "Customer Service Bot: Hello! How can I assist you today?\n",
            "You: when do you open\n",
            "Customer Service Bot: Our working hours are 9 AM to 6 PM, Monday to Friday.\n",
            "You: address\n",
            "Customer Service Bot: We are located at Cantonment, Trichy.\n",
            "You: track my delivery\n",
            "Customer Service Bot: You can track your order under the 'My Orders' section of our website.\n",
            "You: can i return this\n",
            "Customer Service Bot: You can return products within 30 days with the original receipt.\n",
            "You: see you\n",
            "Customer Service Bot: Goodbye! Have a wonderful day!\n",
            "You: bye\n",
            "Customer Service Bot: Goodbye! Have a wonderful day!\n"
          ]
        }
      ]
    }
  ]
}